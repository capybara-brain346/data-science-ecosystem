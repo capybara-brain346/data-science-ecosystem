{
 "cells": [
  {
   "cell_type": "markdown",
   "id": "6aec5584",
   "metadata": {},
   "source": [
    "# Data Science Tools and Ecosystem"
   ]
  },
  {
   "cell_type": "markdown",
   "id": "0b971586",
   "metadata": {},
   "source": [
    "In this notebook, Data Science Tools and Ecosystem are summarized."
   ]
  },
  {
   "cell_type": "markdown",
   "id": "0e36ca7d",
   "metadata": {},
   "source": [
    "Some of the popular languages that Data Scientists use are:\n",
    "1) Python\n",
    "2) Java\n",
    "3) R\n",
    "4) Julia\n",
    "5) Scala"
   ]
  },
  {
   "cell_type": "markdown",
   "id": "22a64964",
   "metadata": {},
   "source": [
    "Some of the commonly used libraries used by Data Scientists include:\n",
    "1) Pandas\n",
    "2) Numpy\n",
    "3) Seaborn \n",
    "4) ggplot\n",
    "5) Scikit-learn"
   ]
  },
  {
   "cell_type": "markdown",
   "id": "7459c38d",
   "metadata": {},
   "source": [
    "<table ><tr><th>Data Science Tools <th><tr><tr><td>Tensorflow<td><tr><tr><td> Apache Spark <td><tr><tr><td> RStudio <td><tr><table>"
   ]
  },
  {
   "cell_type": "markdown",
   "id": "9b34593e",
   "metadata": {},
   "source": [
    "### Below are a few examples of evaluating arithmetic expressions in Python"
   ]
  },
  {
   "cell_type": "code",
   "execution_count": 1,
   "id": "3baae131",
   "metadata": {},
   "outputs": [
    {
     "data": {
      "text/plain": [
       "17"
      ]
     },
     "execution_count": 1,
     "metadata": {},
     "output_type": "execute_result"
    }
   ],
   "source": [
    "#his a simple arithmetic expression to mutiply then add integers\n",
    "(3*4)+5"
   ]
  },
  {
   "cell_type": "code",
   "execution_count": 2,
   "id": "6bb01bbb",
   "metadata": {},
   "outputs": [
    {
     "data": {
      "text/plain": [
       "3.3333333333333335"
      ]
     },
     "execution_count": 2,
     "metadata": {},
     "output_type": "execute_result"
    }
   ],
   "source": [
    "#This will convert 200 minutes to hours by diving by 60\n",
    "200/60"
   ]
  },
  {
   "cell_type": "markdown",
   "id": "925b0738",
   "metadata": {},
   "source": [
    "**Objectives**\n",
    "\n",
    "> List popular languages for data science\n",
    "> List commonly used libraries for data science\n",
    "> Minutes to hours conversion\n",
    "> Evaluation of a simple arithmetic expression\n",
    "> Created a table of common data science tools "
   ]
  },
  {
   "cell_type": "markdown",
   "id": "43ca085e",
   "metadata": {},
   "source": [
    "## Author\n",
    "Piyush Choudhari"
   ]
  }
 ],
 "metadata": {
  "kernelspec": {
   "display_name": "Python 3 (ipykernel)",
   "language": "python",
   "name": "python3"
  },
  "language_info": {
   "codemirror_mode": {
    "name": "ipython",
    "version": 3
   },
   "file_extension": ".py",
   "mimetype": "text/x-python",
   "name": "python",
   "nbconvert_exporter": "python",
   "pygments_lexer": "ipython3",
   "version": "3.11.5"
  }
 },
 "nbformat": 4,
 "nbformat_minor": 5
}
